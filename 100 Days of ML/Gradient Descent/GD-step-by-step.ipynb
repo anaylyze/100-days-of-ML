{
 "cells": [
  {
   "cell_type": "code",
   "execution_count": null,
   "id": "73f9643d-b363-469a-a70a-7ded7d20c957",
   "metadata": {},
   "outputs": [],
   "source": []
  }
 ],
 "metadata": {
  "kernelspec": {
   "display_name": "",
   "name": ""
  },
  "language_info": {
   "name": ""
  }
 },
 "nbformat": 4,
 "nbformat_minor": 5
}
